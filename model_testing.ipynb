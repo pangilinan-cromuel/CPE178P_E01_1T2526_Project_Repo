{
 "cells": [
  {
   "cell_type": "code",
   "execution_count": 4,
   "id": "1732399e-1370-441f-9e84-8a955caecd37",
   "metadata": {},
   "outputs": [
    {
     "name": "stdout",
     "output_type": "stream",
     "text": [
      "\n",
      "🧠 Prediction Result:\n",
      "   ➤ Label: Drug User\n",
      "   ➤ Confidence: 99.01%\n",
      "\n"
     ]
    }
   ],
   "source": [
    "import torch\n",
    "import torch.nn.functional as F\n",
    "from torchvision import transforms, models\n",
    "from PIL import Image\n",
    "\n",
    "# ======================\n",
    "# SETTINGS\n",
    "# ======================\n",
    "MODEL_PATH = \"best_model.pth\"   # path to your .pth model\n",
    "IMAGE_PATH = \"Screenshot 2025-10-03 152318.png\"         # path to the image you want to classify\n",
    "DEVICE = \"cpu\"                  # change to \"cuda\" if GPU available\n",
    "CLASS_NAMES = [\"Drug User\", \"Not Drug User\"]\n",
    "\n",
    "# ======================\n",
    "# LOAD MODEL\n",
    "# ======================\n",
    "def load_model(model_path, device):\n",
    "    # Load the saved weights\n",
    "    checkpoint = torch.load(model_path, map_location=device)\n",
    "\n",
    "    # Build EfficientNet-B0 for 2-class classification\n",
    "    model = models.efficientnet_b0(pretrained=False)\n",
    "    model.classifier[1] = torch.nn.Linear(model.classifier[1].in_features, 2)\n",
    "\n",
    "    # Remove \"module.\" prefix if trained with DataParallel\n",
    "    new_state_dict = {}\n",
    "    for k, v in checkpoint.items():\n",
    "        new_k = k.replace(\"module.\", \"\") if k.startswith(\"module.\") else k\n",
    "        new_state_dict[new_k] = v\n",
    "\n",
    "    model.load_state_dict(new_state_dict)\n",
    "    model.to(device)\n",
    "    model.eval()\n",
    "    return model\n",
    "\n",
    "# ======================\n",
    "# PREPROCESS IMAGE\n",
    "# ======================\n",
    "def preprocess_image(image_path):\n",
    "    transform = transforms.Compose([\n",
    "        transforms.Resize(256),\n",
    "        transforms.CenterCrop(224),\n",
    "        transforms.ToTensor(),\n",
    "        transforms.Normalize(mean=[0.485, 0.456, 0.406],\n",
    "                             std=[0.229, 0.224, 0.225]),\n",
    "    ])\n",
    "    img = Image.open(image_path).convert(\"RGB\")\n",
    "    return transform(img).unsqueeze(0)\n",
    "\n",
    "# ======================\n",
    "# PREDICT\n",
    "# ======================\n",
    "def predict(model, image_tensor, device):\n",
    "    with torch.no_grad():\n",
    "        outputs = model(image_tensor.to(device))\n",
    "        probs = F.softmax(outputs, dim=1)\n",
    "        confidence, predicted = torch.max(probs, 1)\n",
    "        return CLASS_NAMES[predicted.item()], confidence.item()\n",
    "\n",
    "# ======================\n",
    "# MAIN\n",
    "# ======================\n",
    "if __name__ == \"__main__\":\n",
    "    model = load_model(MODEL_PATH, DEVICE)\n",
    "    image_tensor = preprocess_image(IMAGE_PATH)\n",
    "    label, confidence = predict(model, image_tensor, DEVICE)\n",
    "\n",
    "    print(f\"\\n🧠 Prediction Result:\")\n",
    "    print(f\"   ➤ Label: {label}\")\n",
    "    print(f\"   ➤ Confidence: {confidence * 100:.2f}%\\n\")\n",
    "\n"
   ]
  },
  {
   "cell_type": "code",
   "execution_count": null,
   "id": "a991947f-b3bd-4223-9240-19e1a21e8fc0",
   "metadata": {},
   "outputs": [],
   "source": []
  }
 ],
 "metadata": {
  "kernelspec": {
   "display_name": "Python 3 (ipykernel)",
   "language": "python",
   "name": "python3"
  },
  "language_info": {
   "codemirror_mode": {
    "name": "ipython",
    "version": 3
   },
   "file_extension": ".py",
   "mimetype": "text/x-python",
   "name": "python",
   "nbconvert_exporter": "python",
   "pygments_lexer": "ipython3",
   "version": "3.11.9"
  }
 },
 "nbformat": 4,
 "nbformat_minor": 5
}
