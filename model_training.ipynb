{
 "cells": [
  {
   "cell_type": "code",
   "execution_count": 30,
   "id": "4c75631c-cac0-43da-9eb4-9206dfd94415",
   "metadata": {},
   "outputs": [
    {
     "name": "stdout",
     "output_type": "stream",
     "text": [
      "Requirement already satisfied: utils in c:\\users\\rupert jay laureano\\desktop\\localrepo\\venvs\\ms26\\lib\\site-packages (1.0.2)\n"
     ]
    }
   ],
   "source": [
    "!pip install --use-pep517 utils\n"
   ]
  },
  {
   "cell_type": "code",
   "execution_count": 56,
   "id": "ebc631ae-6e28-43df-805f-99b1ed43660c",
   "metadata": {},
   "outputs": [],
   "source": [
    "import torch\n",
    "import torch.nn as nn\n",
    "import torch.optim as optim\n",
    "from torch.optim import Adam\n",
    "from torch.utils.data import DataLoader\n",
    "from torchvision import datasets, models, transforms\n",
    "import time"
   ]
  },
  {
   "cell_type": "code",
   "execution_count": 57,
   "id": "fa641d13-36a8-48d7-8788-c31ba0a4b498",
   "metadata": {},
   "outputs": [
    {
     "name": "stdout",
     "output_type": "stream",
     "text": [
      "Using device: cpu\n"
     ]
    }
   ],
   "source": [
    "device = torch.device(\"cuda\" if torch.cuda.is_available() else \"cpu\")\n",
    "print(\"Using device:\", device)"
   ]
  },
  {
   "cell_type": "code",
   "execution_count": 58,
   "id": "71999ca1-9524-4726-bd0f-c897a2fee621",
   "metadata": {},
   "outputs": [],
   "source": [
    "train_dir = \"data/drug_users_train\"   # contains 'drug_user' and 'not_user'\n",
    "test_dir = \"data/drug_users_test\"     # contains 'drug_user' and 'not_user'"
   ]
  },
  {
   "cell_type": "code",
   "execution_count": 59,
   "id": "14d0bc86-4f30-47a0-9c01-c805947c10ba",
   "metadata": {},
   "outputs": [],
   "source": [
    "train_transforms = transforms.Compose([\n",
    "    transforms.Resize((224, 224)),\n",
    "    transforms.RandomHorizontalFlip(),\n",
    "    transforms.RandomRotation(10),\n",
    "    transforms.ColorJitter(brightness=0.2, contrast=0.2),\n",
    "    transforms.ToTensor(),\n",
    "    transforms.Normalize([0.485, 0.456, 0.406], \n",
    "                         [0.229, 0.224, 0.225])\n",
    "])\n",
    "\n",
    "test_transforms = transforms.Compose([\n",
    "    transforms.Resize((224, 224)),\n",
    "    transforms.ToTensor(),\n",
    "    transforms.Normalize([0.485, 0.456, 0.406], \n",
    "                         [0.229, 0.224, 0.225])\n",
    "])\n"
   ]
  },
  {
   "cell_type": "code",
   "execution_count": 60,
   "id": "075fdc84-07d0-42c2-87c6-73e158c2e67e",
   "metadata": {},
   "outputs": [
    {
     "name": "stdout",
     "output_type": "stream",
     "text": [
      "Classes: ['drug_user', 'not_user']\n"
     ]
    }
   ],
   "source": [
    "train_dataset = datasets.ImageFolder(train_dir, transform=train_transforms)\n",
    "test_dataset = datasets.ImageFolder(test_dir, transform=test_transforms)\n",
    "\n",
    "train_loader = DataLoader(train_dataset, batch_size=32, shuffle=True)\n",
    "test_loader = DataLoader(test_dataset, batch_size=32, shuffle=False)\n",
    "\n",
    "print(\"Classes:\", train_dataset.classes) "
   ]
  },
  {
   "cell_type": "code",
   "execution_count": 61,
   "id": "495c4e9e-a639-4e0c-9e4a-a997967dbc08",
   "metadata": {},
   "outputs": [],
   "source": [
    "model = models.efficientnet_b0(weights=\"IMAGENET1K_V1\")\n",
    "\n",
    "# Replace classifier for binary classification\n",
    "num_features = model.classifier[1].in_features\n",
    "model.classifier[1] = nn.Linear(num_features, 2)\n",
    "\n",
    "model = model.to(device)"
   ]
  },
  {
   "cell_type": "code",
   "execution_count": 62,
   "id": "45f3df16-d4b7-448b-b548-0dccfdf29c2c",
   "metadata": {},
   "outputs": [
    {
     "name": "stdout",
     "output_type": "stream",
     "text": [
      "Class Weights: tensor([0.4000, 0.6000])\n"
     ]
    }
   ],
   "source": [
    "class_counts = torch.tensor([240, 160], dtype=torch.float)  # [drug_user, not_user] in training\n",
    "class_weights = 1.0 / class_counts  # inverse frequency\n",
    "class_weights = class_weights / class_weights.sum()  # normalize to sum=1\n",
    "class_weights = class_weights.to(device)\n",
    "\n",
    "print(\"Class Weights:\", class_weights)\n",
    "\n",
    "criterion = nn.CrossEntropyLoss(weight=class_weights)\n",
    "optimizer = optim.Adam(model.parameters(), lr=0.0001)\n"
   ]
  },
  {
   "cell_type": "code",
   "execution_count": 63,
   "id": "7c751a6b-9676-4d61-a077-94f878da7dc8",
   "metadata": {},
   "outputs": [],
   "source": [
    "def train_model(model, criterion, optimizer, train_loader, test_loader, num_epochs=15):\n",
    "    best_acc = 0.0\n",
    "    print(\"\\n========== Start Training ==========\\n\")\n",
    "\n",
    "    for epoch in range(num_epochs):\n",
    "        model.train()\n",
    "        running_loss, running_corrects = 0.0, 0\n",
    "\n",
    "        for inputs, labels in train_loader:\n",
    "            inputs, labels = inputs.to(device), labels.to(device)\n",
    "\n",
    "            optimizer.zero_grad()\n",
    "            outputs = model(inputs)\n",
    "            _, preds = torch.max(outputs, 1)\n",
    "            loss = criterion(outputs, labels)\n",
    "\n",
    "            loss.backward()\n",
    "            optimizer.step()\n",
    "\n",
    "            running_loss += loss.item() * inputs.size(0)\n",
    "            running_corrects += torch.sum(preds == labels.data)\n",
    "\n",
    "        epoch_loss = running_loss / len(train_dataset)\n",
    "        epoch_acc = running_corrects.double() / len(train_dataset)\n",
    "\n",
    "        # Validation\n",
    "        model.eval()\n",
    "        val_corrects = 0\n",
    "        with torch.no_grad():\n",
    "            for inputs, labels in test_loader:\n",
    "                inputs, labels = inputs.to(device), labels.to(device)\n",
    "                outputs = model(inputs)\n",
    "                _, preds = torch.max(outputs, 1)\n",
    "                val_corrects += torch.sum(preds == labels.data)\n",
    "\n",
    "        val_acc = val_corrects.double() / len(test_dataset)\n",
    "\n",
    "        print(f\"Epoch {epoch+1}/{num_epochs} \"\n",
    "              f\"Train Loss: {epoch_loss:.4f} \"\n",
    "              f\"Train Acc: {epoch_acc:.4f} \"\n",
    "              f\"Val Acc: {val_acc:.4f}\")\n",
    "\n",
    "        # Save best model\n",
    "        if val_acc > best_acc:\n",
    "            best_acc = val_acc\n",
    "            torch.save(model.state_dict(), \"best_model.pth\")\n",
    "\n",
    "    print(f\"\\nTraining finished. Best Validation Accuracy: {best_acc:.4f}\")\n",
    "    return model\n"
   ]
  },
  {
   "cell_type": "code",
   "execution_count": null,
   "id": "57bd6550-d59f-4fda-8849-ab13c617419d",
   "metadata": {},
   "outputs": [
    {
     "name": "stdout",
     "output_type": "stream",
     "text": [
      "\n",
      "========== Start Training ==========\n",
      "\n"
     ]
    }
   ],
   "source": [
    "trained_model = train_model(model, criterion, optimizer, train_loader, test_loader, num_epochs=20)\n"
   ]
  },
  {
   "cell_type": "code",
   "execution_count": null,
   "id": "f56f5cb4-42b8-45ef-a450-9d1b91c036e9",
   "metadata": {},
   "outputs": [],
   "source": [
    "trained_model.load_state_dict(torch.load(\"best_model.pth\"))\n",
    "trained_model.eval()"
   ]
  },
  {
   "cell_type": "code",
   "execution_count": null,
   "id": "566df877-d168-4261-ad98-04fdc46b39e4",
   "metadata": {},
   "outputs": [],
   "source": []
  }
 ],
 "metadata": {
  "kernelspec": {
   "display_name": "Python 3 (ipykernel)",
   "language": "python",
   "name": "python3"
  },
  "language_info": {
   "codemirror_mode": {
    "name": "ipython",
    "version": 3
   },
   "file_extension": ".py",
   "mimetype": "text/x-python",
   "name": "python",
   "nbconvert_exporter": "python",
   "pygments_lexer": "ipython3",
   "version": "3.11.9"
  }
 },
 "nbformat": 4,
 "nbformat_minor": 5
}
